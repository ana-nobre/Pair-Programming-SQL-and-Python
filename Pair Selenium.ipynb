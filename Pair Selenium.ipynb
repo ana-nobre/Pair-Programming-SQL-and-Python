{
 "cells": [
  {
   "cell_type": "markdown",
   "id": "7a921815",
   "metadata": {},
   "source": [
    "# Ejercicio de Pair\n",
    "\n",
    "Voy a buscar películas de miedo en Amazon prime\n",
    "\n",
    "- Acceso a la página automatizándolo con Selenium\n",
    "- Una vez en la página de películas de miedo, debes programar su script para que recorra las 5 primeras películas, extrayendo los siguientes datos de cada peli:\n",
    "    - Título de la película.\n",
    "\n",
    "    - Autor(es) de la película.\n",
    "\n",
    "    - Precio de la película.\n",
    "\n",
    "    - Editorial de la película.\n",
    "\n",
    "    - Idioma de la película.\n",
    "\n",
    "    - Duración de la película\n",
    "\n",
    "- Almacenar los datos en un DataFrame"
   ]
  },
  {
   "cell_type": "code",
   "execution_count": 2,
   "id": "7318470b",
   "metadata": {},
   "outputs": [
    {
     "ename": "ModuleNotFoundError",
     "evalue": "No module named 'selenium'",
     "output_type": "error",
     "traceback": [
      "\u001b[31m---------------------------------------------------------------------------\u001b[39m",
      "\u001b[31mModuleNotFoundError\u001b[39m                       Traceback (most recent call last)",
      "\u001b[36mCell\u001b[39m\u001b[36m \u001b[39m\u001b[32mIn[2]\u001b[39m\u001b[32m, line 12\u001b[39m\n\u001b[32m      8\u001b[39m \u001b[38;5;28;01mimport\u001b[39;00m\u001b[38;5;250m \u001b[39m\u001b[34;01mrequests\u001b[39;00m\n\u001b[32m     10\u001b[39m \u001b[38;5;66;03m# Importar librerías para automatización de navegadores web con Selenium\u001b[39;00m\n\u001b[32m     11\u001b[39m \u001b[38;5;66;03m# -----------------------------------------------------------------------\u001b[39;00m\n\u001b[32m---> \u001b[39m\u001b[32m12\u001b[39m \u001b[38;5;28;01mfrom\u001b[39;00m\u001b[38;5;250m \u001b[39m\u001b[34;01mselenium\u001b[39;00m\u001b[38;5;250m \u001b[39m\u001b[38;5;28;01mimport\u001b[39;00m webdriver  \u001b[38;5;66;03m# Selenium es una herramienta para automatizar la interacción con navegadores web.\u001b[39;00m\n\u001b[32m     13\u001b[39m \u001b[38;5;28;01mfrom\u001b[39;00m\u001b[38;5;250m \u001b[39m\u001b[34;01mwebdriver_manager\u001b[39;00m\u001b[34;01m.\u001b[39;00m\u001b[34;01mchrome\u001b[39;00m\u001b[38;5;250m \u001b[39m\u001b[38;5;28;01mimport\u001b[39;00m ChromeDriverManager  \u001b[38;5;66;03m# ChromeDriverManager gestiona la instalación del controlador de Chrome.\u001b[39;00m\n\u001b[32m     14\u001b[39m \u001b[38;5;28;01mfrom\u001b[39;00m\u001b[38;5;250m \u001b[39m\u001b[34;01mselenium\u001b[39;00m\u001b[34;01m.\u001b[39;00m\u001b[34;01mwebdriver\u001b[39;00m\u001b[34;01m.\u001b[39;00m\u001b[34;01mcommon\u001b[39;00m\u001b[34;01m.\u001b[39;00m\u001b[34;01mkeys\u001b[39;00m\u001b[38;5;250m \u001b[39m\u001b[38;5;28;01mimport\u001b[39;00m Keys  \u001b[38;5;66;03m# Keys es útil para simular eventos de teclado en Selenium.\u001b[39;00m\n",
      "\u001b[31mModuleNotFoundError\u001b[39m: No module named 'selenium'"
     ]
    }
   ],
   "source": [
    "# Importar librerías para tratamiento de datos\n",
    "# -----------------------------------------------------------------------\n",
    "import pandas as pd  # Pandas es una poderosa librería para manipulación y análisis de datos en Python.\n",
    "\n",
    "# Importar librerías para web scraping y manipulación de datos\n",
    "# -----------------------------------------------------------------------\n",
    "from bs4 import BeautifulSoup\n",
    "import requests\n",
    "\n",
    "# Importar librerías para automatización de navegadores web con Selenium\n",
    "# -----------------------------------------------------------------------\n",
    "from selenium import webdriver  # Selenium es una herramienta para automatizar la interacción con navegadores web.\n",
    "from webdriver_manager.chrome import ChromeDriverManager  # ChromeDriverManager gestiona la instalación del controlador de Chrome.\n",
    "from selenium.webdriver.common.keys import Keys  # Keys es útil para simular eventos de teclado en Selenium.\n",
    "from selenium.webdriver.support.ui import Select  # Select se utiliza para interactuar con elementos <select> en páginas web.\n",
    "\n",
    "# Importar librerías para pausar la ejecución\n",
    "# -----------------------------------------------------------------------\n",
    "from time import sleep  # Sleep se utiliza para pausar la ejecución del programa por un número de segundos.\n",
    "\n",
    "# Configuraciones\n",
    "# -----------------------------------------------------------------------\n",
    "pd.set_option('display.max_columns', None)  # Establece una opción de Pandas para mostrar todas las columnas de un DataFrame."
   ]
  },
  {
   "cell_type": "code",
   "execution_count": 20,
   "id": "d8149565",
   "metadata": {},
   "outputs": [
    {
     "name": "stdout",
     "output_type": "stream",
     "text": [
      "Entro en la página\n",
      "Hago la ventana grande\n",
      "Rechazadas las cookies\n",
      "Botón Películas\n"
     ]
    },
    {
     "ename": "NoSuchElementException",
     "evalue": "Message: no such element: Unable to locate element: {\"method\":\"css selector\",\"selector\":\"#a-page > div.DVWebNode-web-spa-root-wrapper.DVWebNode > div.DVWebNode-landing-page-wrapper > main > div > div:nth-child(9) > div > section > section > span > a\"}\n  (Session info: chrome=138.0.7204.97); For documentation on this error, please visit: https://www.selenium.dev/documentation/webdriver/troubleshooting/errors#nosuchelementexception\nStacktrace:\n\tGetHandleVerifier [0x0x7ff6ccd86f75+76917]\n\tGetHandleVerifier [0x0x7ff6ccd86fd0+77008]\n\t(No symbol) [0x0x7ff6ccb39dea]\n\t(No symbol) [0x0x7ff6ccb90256]\n\t(No symbol) [0x0x7ff6ccb9050c]\n\t(No symbol) [0x0x7ff6ccbe3887]\n\t(No symbol) [0x0x7ff6ccbb84af]\n\t(No symbol) [0x0x7ff6ccbe065c]\n\t(No symbol) [0x0x7ff6ccbb8243]\n\t(No symbol) [0x0x7ff6ccb81431]\n\t(No symbol) [0x0x7ff6ccb821c3]\n\tGetHandleVerifier [0x0x7ff6cd05d2ad+3051437]\n\tGetHandleVerifier [0x0x7ff6cd057903+3028483]\n\tGetHandleVerifier [0x0x7ff6cd07589d+3151261]\n\tGetHandleVerifier [0x0x7ff6ccda183e+185662]\n\tGetHandleVerifier [0x0x7ff6ccda96ff+218111]\n\tGetHandleVerifier [0x0x7ff6ccd8faf4+112628]\n\tGetHandleVerifier [0x0x7ff6ccd8fca9+113065]\n\tGetHandleVerifier [0x0x7ff6ccd76c78+10616]\n\tBaseThreadInitThunk [0x0x7ffeae8b259d+29]\n\tRtlUserThreadStart [0x0x7ffeaf6aaf78+40]\n",
     "output_type": "error",
     "traceback": [
      "\u001b[1;31m---------------------------------------------------------------------------\u001b[0m",
      "\u001b[1;31mNoSuchElementException\u001b[0m                    Traceback (most recent call last)",
      "Cell \u001b[1;32mIn[20], line 32\u001b[0m\n\u001b[0;32m     30\u001b[0m sleep(\u001b[38;5;241m2\u001b[39m)\n\u001b[0;32m     31\u001b[0m \u001b[38;5;66;03m#entro en películas de terror:\u001b[39;00m\n\u001b[1;32m---> 32\u001b[0m driver\u001b[38;5;241m.\u001b[39mfind_element(\u001b[38;5;124m\"\u001b[39m\u001b[38;5;124mcss selector\u001b[39m\u001b[38;5;124m\"\u001b[39m, \u001b[38;5;124m\"\u001b[39m\u001b[38;5;124m#a-page > div.DVWebNode-web-spa-root-wrapper.DVWebNode > div.DVWebNode-landing-page-wrapper > main > div > div:nth-child(9) > div > section > section > span > a\u001b[39m\u001b[38;5;124m\"\u001b[39m)\u001b[38;5;241m.\u001b[39mclick()\n\u001b[0;32m     33\u001b[0m \u001b[38;5;28mprint\u001b[39m(\u001b[38;5;124m\"\u001b[39m\u001b[38;5;124mBotón Cine de terror ver más\u001b[39m\u001b[38;5;124m\"\u001b[39m)\n\u001b[0;32m     35\u001b[0m \u001b[38;5;66;03m#entro en la primera película:\u001b[39;00m\n",
      "File \u001b[1;32mc:\\Users\\Usuario\\anaconda3\\Lib\\site-packages\\selenium\\webdriver\\remote\\webdriver.py:922\u001b[0m, in \u001b[0;36mWebDriver.find_element\u001b[1;34m(self, by, value)\u001b[0m\n\u001b[0;32m    919\u001b[0m         \u001b[38;5;28;01mraise\u001b[39;00m NoSuchElementException(\u001b[38;5;124mf\u001b[39m\u001b[38;5;124m\"\u001b[39m\u001b[38;5;124mCannot locate relative element with: \u001b[39m\u001b[38;5;132;01m{\u001b[39;00mby\u001b[38;5;241m.\u001b[39mroot\u001b[38;5;132;01m}\u001b[39;00m\u001b[38;5;124m\"\u001b[39m)\n\u001b[0;32m    920\u001b[0m     \u001b[38;5;28;01mreturn\u001b[39;00m elements[\u001b[38;5;241m0\u001b[39m]\n\u001b[1;32m--> 922\u001b[0m \u001b[38;5;28;01mreturn\u001b[39;00m \u001b[38;5;28mself\u001b[39m\u001b[38;5;241m.\u001b[39mexecute(Command\u001b[38;5;241m.\u001b[39mFIND_ELEMENT, {\u001b[38;5;124m\"\u001b[39m\u001b[38;5;124musing\u001b[39m\u001b[38;5;124m\"\u001b[39m: by, \u001b[38;5;124m\"\u001b[39m\u001b[38;5;124mvalue\u001b[39m\u001b[38;5;124m\"\u001b[39m: value})[\u001b[38;5;124m\"\u001b[39m\u001b[38;5;124mvalue\u001b[39m\u001b[38;5;124m\"\u001b[39m]\n",
      "File \u001b[1;32mc:\\Users\\Usuario\\anaconda3\\Lib\\site-packages\\selenium\\webdriver\\remote\\webdriver.py:454\u001b[0m, in \u001b[0;36mWebDriver.execute\u001b[1;34m(self, driver_command, params)\u001b[0m\n\u001b[0;32m    451\u001b[0m response \u001b[38;5;241m=\u001b[39m cast(RemoteConnection, \u001b[38;5;28mself\u001b[39m\u001b[38;5;241m.\u001b[39mcommand_executor)\u001b[38;5;241m.\u001b[39mexecute(driver_command, params)\n\u001b[0;32m    453\u001b[0m \u001b[38;5;28;01mif\u001b[39;00m response:\n\u001b[1;32m--> 454\u001b[0m     \u001b[38;5;28mself\u001b[39m\u001b[38;5;241m.\u001b[39merror_handler\u001b[38;5;241m.\u001b[39mcheck_response(response)\n\u001b[0;32m    455\u001b[0m     response[\u001b[38;5;124m\"\u001b[39m\u001b[38;5;124mvalue\u001b[39m\u001b[38;5;124m\"\u001b[39m] \u001b[38;5;241m=\u001b[39m \u001b[38;5;28mself\u001b[39m\u001b[38;5;241m.\u001b[39m_unwrap_value(response\u001b[38;5;241m.\u001b[39mget(\u001b[38;5;124m\"\u001b[39m\u001b[38;5;124mvalue\u001b[39m\u001b[38;5;124m\"\u001b[39m, \u001b[38;5;28;01mNone\u001b[39;00m))\n\u001b[0;32m    456\u001b[0m     \u001b[38;5;28;01mreturn\u001b[39;00m response\n",
      "File \u001b[1;32mc:\\Users\\Usuario\\anaconda3\\Lib\\site-packages\\selenium\\webdriver\\remote\\errorhandler.py:232\u001b[0m, in \u001b[0;36mErrorHandler.check_response\u001b[1;34m(self, response)\u001b[0m\n\u001b[0;32m    230\u001b[0m         alert_text \u001b[38;5;241m=\u001b[39m value[\u001b[38;5;124m\"\u001b[39m\u001b[38;5;124malert\u001b[39m\u001b[38;5;124m\"\u001b[39m]\u001b[38;5;241m.\u001b[39mget(\u001b[38;5;124m\"\u001b[39m\u001b[38;5;124mtext\u001b[39m\u001b[38;5;124m\"\u001b[39m)\n\u001b[0;32m    231\u001b[0m     \u001b[38;5;28;01mraise\u001b[39;00m exception_class(message, screen, stacktrace, alert_text)  \u001b[38;5;66;03m# type: ignore[call-arg]  # mypy is not smart enough here\u001b[39;00m\n\u001b[1;32m--> 232\u001b[0m \u001b[38;5;28;01mraise\u001b[39;00m exception_class(message, screen, stacktrace)\n",
      "\u001b[1;31mNoSuchElementException\u001b[0m: Message: no such element: Unable to locate element: {\"method\":\"css selector\",\"selector\":\"#a-page > div.DVWebNode-web-spa-root-wrapper.DVWebNode > div.DVWebNode-landing-page-wrapper > main > div > div:nth-child(9) > div > section > section > span > a\"}\n  (Session info: chrome=138.0.7204.97); For documentation on this error, please visit: https://www.selenium.dev/documentation/webdriver/troubleshooting/errors#nosuchelementexception\nStacktrace:\n\tGetHandleVerifier [0x0x7ff6ccd86f75+76917]\n\tGetHandleVerifier [0x0x7ff6ccd86fd0+77008]\n\t(No symbol) [0x0x7ff6ccb39dea]\n\t(No symbol) [0x0x7ff6ccb90256]\n\t(No symbol) [0x0x7ff6ccb9050c]\n\t(No symbol) [0x0x7ff6ccbe3887]\n\t(No symbol) [0x0x7ff6ccbb84af]\n\t(No symbol) [0x0x7ff6ccbe065c]\n\t(No symbol) [0x0x7ff6ccbb8243]\n\t(No symbol) [0x0x7ff6ccb81431]\n\t(No symbol) [0x0x7ff6ccb821c3]\n\tGetHandleVerifier [0x0x7ff6cd05d2ad+3051437]\n\tGetHandleVerifier [0x0x7ff6cd057903+3028483]\n\tGetHandleVerifier [0x0x7ff6cd07589d+3151261]\n\tGetHandleVerifier [0x0x7ff6ccda183e+185662]\n\tGetHandleVerifier [0x0x7ff6ccda96ff+218111]\n\tGetHandleVerifier [0x0x7ff6ccd8faf4+112628]\n\tGetHandleVerifier [0x0x7ff6ccd8fca9+113065]\n\tGetHandleVerifier [0x0x7ff6ccd76c78+10616]\n\tBaseThreadInitThunk [0x0x7ffeae8b259d+29]\n\tRtlUserThreadStart [0x0x7ffeaf6aaf78+40]\n"
     ]
    }
   ],
   "source": [
    "# generamos un Driver y escogemos la dirección url:\n",
    "driver = webdriver.Chrome()\n",
    "\n",
    "url = \"https://www.primevideo.com/-/es/movie\"\n",
    "\n",
    "# entrar en la página web: \n",
    "driver.get(url)\n",
    "print(\"Entro en la página\")\n",
    "\n",
    "driver.maximize_window()\n",
    "print(\"Hago la ventana grande\")\n",
    "\n",
    "# cookies:\n",
    "try:\n",
    "    driver.find_element(\"css selector\", \"#a-page > div.DVWebNode-web-spa-root-wrapper.DVWebNode > div.DVWebNode-conditional-site-wide-wrapper > div > div > div > div > div > div > form:nth-child(3) > button\").click()\n",
    "    print(\"Rechazadas las cookies\")\n",
    "\n",
    "except:\n",
    "    print(\"no hay cookies\")\n",
    "    pass\n",
    "\n",
    "#entro en películas:\n",
    "driver.find_element(\"css selector\", \"#pv-nav-container > div > div.THh4v2 > div.xwbxuK.n22jXJ > ul > li:nth-child(2) > a\").click()\n",
    "print(\"Botón Películas\")\n",
    "\n",
    "# ejecutamos un sript para q nos haga scroll por la página:\n",
    "# driver.execute_script(\"window.scrollTo(0, Y)\")\n",
    "driver.execute_script(\"window.scrollBy(0, 1750)\")\n",
    "\n",
    "sleep(2)\n",
    "#entro en películas de terror:\n",
    "driver.find_element(\"css selector\", \"#a-page > div.DVWebNode-web-spa-root-wrapper.DVWebNode > div.DVWebNode-landing-page-wrapper > main > div > div:nth-child(9) > div > section > section > span > a\").click()\n",
    "print(\"Botón Cine de terror ver más\")\n",
    "\n",
    "#entro en la primera película:\n",
    "driver.find_element(\"css selector\", \"#a-page > div.DVWebNode-web-spa-root-wrapper.DVWebNode > div.DVWebNode-browse-wrapper > main > div > div.OKS56b > div:nth-child(2) > ul > article:nth-child(1) > section > div > a\").click()\n",
    "print(\"Botón Cine de terror ver más\")\n",
    "\n",
    "sleep(2)\n",
    "print(\"Vamos a acceder a cada uno de las pelis\")\n",
    "\n",
    "for i in range(1,6):\n",
    "    driver.find_element(\"css selector\", f\"#a-page > div.DVWebNode-web-spa-root-wrapper.DVWebNode > div.DVWebNode-browse-wrapper > main > div > div.OKS56b > div:nth-child(2) > ul > article:nth-child({i}) > section > div > a\").click()\n",
    "    print(f\"Entrando en la película {i}\")\n",
    "    sleep(2)\n",
    "    driver.back() # le ponemos un back para q vuelva a la página de terror\n"
   ]
  },
  {
   "cell_type": "markdown",
   "id": "90082c4c",
   "metadata": {},
   "source": [
    "Selectores:\n",
    "- #a-page > div.DVWebNode-web-spa-root-wrapper.DVWebNode > div.DVWebNode-conditional-site-wide-wrapper > div > div > div > div > div > div > form:nth-child(3) > button --> selector de rechazar cookies\n",
    "- #pv-nav-container > div > div.THh4v2 > div.xwbxuK.n22jXJ > ul > li:nth-child(2) > a --> selector de películas\n",
    "- #a-page > div.DVWebNode-web-spa-root-wrapper.DVWebNode > div.DVWebNode-landing-page-wrapper > main > div > div:nth-child(9) > div > section > section > span > a --> selector de películas de miedo\n",
    "- "
   ]
  },
  {
   "cell_type": "markdown",
   "id": "bf88b776",
   "metadata": {},
   "source": [
    "Selector películas:\n",
    "- #a-page > div.DVWebNode-web-spa-root-wrapper.DVWebNode > div.DVWebNode-browse-wrapper > main > div > div.OKS56b > div:nth-child(2) > ul > article:nth-child(1) > section > div > a\n",
    "- #a-page > div.DVWebNode-web-spa-root-wrapper.DVWebNode > div.DVWebNode-browse-wrapper > main > div > div.OKS56b > div:nth-child(2) > ul > article:nth-child(2) > section > div > a\n",
    "- #a-page > div.DVWebNode-web-spa-root-wrapper.DVWebNode > div.DVWebNode-browse-wrapper > main > div > div.OKS56b > div:nth-child(2) > ul > article:nth-child(3) > section > div > a"
   ]
  },
  {
   "cell_type": "code",
   "execution_count": null,
   "id": "3213fab8",
   "metadata": {},
   "outputs": [],
   "source": []
  },
  {
   "cell_type": "code",
   "execution_count": null,
   "id": "0cbe62df",
   "metadata": {},
   "outputs": [],
   "source": []
  },
  {
   "cell_type": "code",
   "execution_count": null,
   "id": "42c276dd",
   "metadata": {},
   "outputs": [],
   "source": []
  },
  {
   "cell_type": "code",
   "execution_count": null,
   "id": "fe36e49f",
   "metadata": {},
   "outputs": [],
   "source": []
  }
 ],
 "metadata": {
  "kernelspec": {
   "display_name": "Python 3",
   "language": "python",
   "name": "python3"
  },
  "language_info": {
   "codemirror_mode": {
    "name": "ipython",
    "version": 3
   },
   "file_extension": ".py",
   "mimetype": "text/x-python",
   "name": "python",
   "nbconvert_exporter": "python",
   "pygments_lexer": "ipython3",
   "version": "3.13.3"
  }
 },
 "nbformat": 4,
 "nbformat_minor": 5
}
